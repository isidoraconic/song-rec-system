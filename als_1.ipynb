{
  "nbformat": 4,
  "nbformat_minor": 0,
  "metadata": {
    "colab": {
      "name": "als-1.ipynb",
      "provenance": [],
      "collapsed_sections": [],
      "authorship_tag": "ABX9TyOGXZOXiPMy/WbWq42tkd1u",
      "include_colab_link": true
    },
    "kernelspec": {
      "name": "python3",
      "display_name": "Python 3"
    },
    "language_info": {
      "name": "python"
    }
  },
  "cells": [
    {
      "cell_type": "markdown",
      "metadata": {
        "id": "view-in-github",
        "colab_type": "text"
      },
      "source": [
        "<a href=\"https://colab.research.google.com/github/isidoraconic/song-rec-system/blob/main/als_1.ipynb\" target=\"_parent\"><img src=\"https://colab.research.google.com/assets/colab-badge.svg\" alt=\"Open In Colab\"/></a>"
      ]
    },
    {
      "cell_type": "markdown",
      "source": [
        "# Alternating Least Squares (ALS) Demo 1"
      ],
      "metadata": {
        "id": "SU_3HDn8OTFk"
      }
    },
    {
      "cell_type": "markdown",
      "source": [
        "### Working with **implicit** data"
      ],
      "metadata": {
        "id": "q7hToD7Hqym2"
      }
    },
    {
      "cell_type": "markdown",
      "source": [
        "In this example, we will be using matrix factorization in order to transform the interaction matrix (original matrix with users and items - and their preference of the items) into a more digestible, lower dimension matrix. The original matrix often has very many (millions) dimensions, but the actual \"tastes\" that drive recommendations are not as complex/ lower dimensionality.\n",
        "\n",
        "Using matrix factorization, it is possible to mathematically reduce the dimensionality of the original \"all users by all items\" matrix into into something much smaller that represents “all items by some taste dimensions” and “all users by some taste dimensions”. These dimensions are called latent or hidden features and we learn them from our data. [Source.](https://medium.com/radon-dev/als-implicit-collaborative-filtering-5ed653ba39fe)\n",
        "\n",
        "*If we can express each user as a vector of their taste values, and at the same time express each item as a vector of what tastes they represent. You can see we can quite easily make a recommendation. This also gives us the ability to find connections between users who have no specific items in common but share common tastes.*\n",
        "\n",
        "Common types of matrix factorization include SVD (Singular Value Decomposition) and PLSA (Probailistic Latent Semantic Analysis), which work well for explicit data. With explicit data, unknown values can be treated simply as unknown, and we can impute/predict some values to them (i.e. a movie rating matrix). However, this is more difficult with implicit data - a missing value might mean that the user disliked a song, movie, etc. or simply that they have not seen it yet.\n",
        "\n",
        "This is where Alternating Least Squares (ALS) is useful."
      ],
      "metadata": {
        "id": "gXve9NxDq7GH"
      }
    },
    {
      "cell_type": "markdown",
      "source": [
        "### Alternating Least Squares (ALS)\n",
        "**Note that the below demo will be done on the last-fm dataset.**"
      ],
      "metadata": {
        "id": "pUbQNkuvr1qY"
      }
    },
    {
      "cell_type": "markdown",
      "source": [
        "*ALS is an iterative optimization process where we for every iteration try to arrive closer and closer to a factorized representation of our original data.*\n",
        "\n",
        "In this first iteration, we will use the logic as outlined in [Collaborative Filtering for Implicit Feedback Datasets](http://yifanhu.net/PUB/cf.pdf), in which \"their solution is to merge the preference (p) for an item with the confidence (c) we have for that preference. We start out with missing values as a negative preference with a low confidence value and existing values a positive preference but with a high confidence value. We can use something like play count, time spent on a page or some other form of interaction as the basis for calculating our confidence.\""
      ],
      "metadata": {
        "id": "4IOm1xCvs8_y"
      }
    },
    {
      "cell_type": "code",
      "source": [
        "# If using library, uncomment the lines below:\n",
        "# !pip install implicit\n",
        "# import implicit"
      ],
      "metadata": {
        "id": "EnSZT3Lx5MVO"
      },
      "execution_count": null,
      "outputs": []
    },
    {
      "cell_type": "code",
      "source": [
        "# Training the model would go something like:\n",
        "# Initialize the als model and fit it using the sparse item-user matrix\n",
        "# model = implicit.als.AlternatingLeastSquares(factors=20, regularization=0.1, iterations=20)\n",
        "\n",
        "# Calculate the confidence by multiplying it by our alpha value.\n",
        "# alpha_val = 15\n",
        "# data_conf = (sparse_item_user * alpha_val).astype('double')\n",
        "\n",
        "#Fit the model\n",
        "# model.fit(data_conf)"
      ],
      "metadata": {
        "id": "7-Y9hA565ewx"
      },
      "execution_count": null,
      "outputs": []
    },
    {
      "cell_type": "code",
      "source": [
        "# Necessary imports\n",
        "import random\n",
        "import pandas as pd\n",
        "import numpy as np\n",
        "\n",
        "import scipy.sparse as sparse\n",
        "from scipy.sparse.linalg import spsolve\n",
        "from sklearn.preprocessing import MinMaxScaler"
      ],
      "metadata": {
        "id": "WJLLzzGmvVDF"
      },
      "execution_count": null,
      "outputs": []
    },
    {
      "cell_type": "code",
      "source": [
        "# Getting the last-fm-360K dataset\n",
        "!wget http://mtg.upf.edu/static/datasets/last.fm/lastfm-dataset-360K.tar.gz"
      ],
      "metadata": {
        "colab": {
          "base_uri": "https://localhost:8080/",
          "height": 0
        },
        "id": "EwNl0pam4Rx0",
        "outputId": "4aa577d6-954e-4b70-d195-657861c0bd53"
      },
      "execution_count": 8,
      "outputs": [
        {
          "output_type": "stream",
          "name": "stdout",
          "text": [
            "--2022-02-01 19:44:52--  http://mtg.upf.edu/static/datasets/last.fm/lastfm-dataset-360K.tar.gz\n",
            "Resolving mtg.upf.edu (mtg.upf.edu)... 84.89.139.55\n",
            "Connecting to mtg.upf.edu (mtg.upf.edu)|84.89.139.55|:80... connected.\n",
            "HTTP request sent, awaiting response... 200 OK\n",
            "Length: 569202935 (543M) [application/x-gzip]\n",
            "Saving to: ‘lastfm-dataset-360K.tar.gz.1’\n",
            "\n",
            "lastfm-dataset-360K 100%[===================>] 542.83M   799KB/s    in 7m 53s  \n",
            "\n",
            "2022-02-01 19:52:45 (1.15 MB/s) - ‘lastfm-dataset-360K.tar.gz.1’ saved [569202935/569202935]\n",
            "\n"
          ]
        }
      ]
    },
    {
      "cell_type": "code",
      "source": [
        "!ls"
      ],
      "metadata": {
        "id": "n3RE3vM0t38w",
        "colab": {
          "base_uri": "https://localhost:8080/",
          "height": 0
        },
        "outputId": "1de559d6-04f9-479d-8522-9437eb9f9794"
      },
      "execution_count": 9,
      "outputs": [
        {
          "output_type": "stream",
          "name": "stdout",
          "text": [
            "lastfm-dataset-360K\t    lastfm-dataset-360K.tar.gz.1\n",
            "lastfm-dataset-360K.tar.gz  sample_data\n"
          ]
        }
      ]
    },
    {
      "cell_type": "code",
      "source": [
        "# Unzip the folder:\n",
        "!tar -xvzf lastfm-dataset-360K.tar.gz"
      ],
      "metadata": {
        "id": "JWsgXGLWvznJ",
        "colab": {
          "base_uri": "https://localhost:8080/",
          "height": 0
        },
        "outputId": "bda35658-93ac-49a8-ef2d-213f2ae59980"
      },
      "execution_count": 10,
      "outputs": [
        {
          "output_type": "stream",
          "name": "stdout",
          "text": [
            "lastfm-dataset-360K/\n",
            "lastfm-dataset-360K/usersha1-artmbid-artname-plays.tsv\n",
            "lastfm-dataset-360K/README.txt\n",
            "lastfm-dataset-360K/mbox_sha1sum.py\n",
            "lastfm-dataset-360K/usersha1-profile.tsv\n"
          ]
        }
      ]
    },
    {
      "cell_type": "code",
      "source": [
        "# Check that it was unzipped\n",
        "!ls"
      ],
      "metadata": {
        "id": "fztksAd5v3Jv",
        "colab": {
          "base_uri": "https://localhost:8080/",
          "height": 0
        },
        "outputId": "c8b9d59a-0c62-4b64-f6e2-ee94ba239975"
      },
      "execution_count": 11,
      "outputs": [
        {
          "output_type": "stream",
          "name": "stdout",
          "text": [
            "lastfm-dataset-360K\t    lastfm-dataset-360K.tar.gz.1\n",
            "lastfm-dataset-360K.tar.gz  sample_data\n"
          ]
        }
      ]
    },
    {
      "cell_type": "code",
      "source": [
        "# Load the data into a dataframe\n",
        "raw_data = pd.read_table('lastfm-dataset-360K/usersha1-artmbid-artname-plays.tsv')\n",
        "raw_data = raw_data.drop(raw_data.columns[1], axis=1)\n",
        "raw_data.columns = ['user', 'artist', 'plays']\n",
        "raw_data"
      ],
      "metadata": {
        "id": "tW5kODeYv8wf",
        "colab": {
          "base_uri": "https://localhost:8080/",
          "height": 2286
        },
        "outputId": "b93ec0dd-31bf-4abd-bbe9-32bd2e96f396"
      },
      "execution_count": 13,
      "outputs": [
        {
          "output_type": "execute_result",
          "data": {
            "text/html": [
              "\n",
              "  <div id=\"df-5ef1f6d2-6075-48ee-b4e3-4934d363d8ff\">\n",
              "    <div class=\"colab-df-container\">\n",
              "      <div>\n",
              "<style scoped>\n",
              "    .dataframe tbody tr th:only-of-type {\n",
              "        vertical-align: middle;\n",
              "    }\n",
              "\n",
              "    .dataframe tbody tr th {\n",
              "        vertical-align: top;\n",
              "    }\n",
              "\n",
              "    .dataframe thead th {\n",
              "        text-align: right;\n",
              "    }\n",
              "</style>\n",
              "<table border=\"1\" class=\"dataframe\">\n",
              "  <thead>\n",
              "    <tr style=\"text-align: right;\">\n",
              "      <th></th>\n",
              "      <th>user</th>\n",
              "      <th>artist</th>\n",
              "      <th>plays</th>\n",
              "    </tr>\n",
              "  </thead>\n",
              "  <tbody>\n",
              "    <tr>\n",
              "      <th>0</th>\n",
              "      <td>00000c289a1829a808ac09c00daf10bc3c4e223b</td>\n",
              "      <td>die Ärzte</td>\n",
              "      <td>1099</td>\n",
              "    </tr>\n",
              "    <tr>\n",
              "      <th>1</th>\n",
              "      <td>00000c289a1829a808ac09c00daf10bc3c4e223b</td>\n",
              "      <td>melissa etheridge</td>\n",
              "      <td>897</td>\n",
              "    </tr>\n",
              "    <tr>\n",
              "      <th>2</th>\n",
              "      <td>00000c289a1829a808ac09c00daf10bc3c4e223b</td>\n",
              "      <td>elvenking</td>\n",
              "      <td>717</td>\n",
              "    </tr>\n",
              "    <tr>\n",
              "      <th>3</th>\n",
              "      <td>00000c289a1829a808ac09c00daf10bc3c4e223b</td>\n",
              "      <td>juliette &amp; the licks</td>\n",
              "      <td>706</td>\n",
              "    </tr>\n",
              "    <tr>\n",
              "      <th>4</th>\n",
              "      <td>00000c289a1829a808ac09c00daf10bc3c4e223b</td>\n",
              "      <td>red hot chili peppers</td>\n",
              "      <td>691</td>\n",
              "    </tr>\n",
              "    <tr>\n",
              "      <th>...</th>\n",
              "      <td>...</td>\n",
              "      <td>...</td>\n",
              "      <td>...</td>\n",
              "    </tr>\n",
              "    <tr>\n",
              "      <th>17535649</th>\n",
              "      <td>sep 20, 2008</td>\n",
              "      <td>turbostaat</td>\n",
              "      <td>12</td>\n",
              "    </tr>\n",
              "    <tr>\n",
              "      <th>17535650</th>\n",
              "      <td>sep 20, 2008</td>\n",
              "      <td>cuba missouri</td>\n",
              "      <td>11</td>\n",
              "    </tr>\n",
              "    <tr>\n",
              "      <th>17535651</th>\n",
              "      <td>sep 20, 2008</td>\n",
              "      <td>little man tate</td>\n",
              "      <td>11</td>\n",
              "    </tr>\n",
              "    <tr>\n",
              "      <th>17535652</th>\n",
              "      <td>sep 20, 2008</td>\n",
              "      <td>sigur rós</td>\n",
              "      <td>10</td>\n",
              "    </tr>\n",
              "    <tr>\n",
              "      <th>17535653</th>\n",
              "      <td>sep 20, 2008</td>\n",
              "      <td>the smiths</td>\n",
              "      <td>10</td>\n",
              "    </tr>\n",
              "  </tbody>\n",
              "</table>\n",
              "<p>17535654 rows × 3 columns</p>\n",
              "</div>\n",
              "      <button class=\"colab-df-convert\" onclick=\"convertToInteractive('df-5ef1f6d2-6075-48ee-b4e3-4934d363d8ff')\"\n",
              "              title=\"Convert this dataframe to an interactive table.\"\n",
              "              style=\"display:none;\">\n",
              "        \n",
              "  <svg xmlns=\"http://www.w3.org/2000/svg\" height=\"24px\"viewBox=\"0 0 24 24\"\n",
              "       width=\"24px\">\n",
              "    <path d=\"M0 0h24v24H0V0z\" fill=\"none\"/>\n",
              "    <path d=\"M18.56 5.44l.94 2.06.94-2.06 2.06-.94-2.06-.94-.94-2.06-.94 2.06-2.06.94zm-11 1L8.5 8.5l.94-2.06 2.06-.94-2.06-.94L8.5 2.5l-.94 2.06-2.06.94zm10 10l.94 2.06.94-2.06 2.06-.94-2.06-.94-.94-2.06-.94 2.06-2.06.94z\"/><path d=\"M17.41 7.96l-1.37-1.37c-.4-.4-.92-.59-1.43-.59-.52 0-1.04.2-1.43.59L10.3 9.45l-7.72 7.72c-.78.78-.78 2.05 0 2.83L4 21.41c.39.39.9.59 1.41.59.51 0 1.02-.2 1.41-.59l7.78-7.78 2.81-2.81c.8-.78.8-2.07 0-2.86zM5.41 20L4 18.59l7.72-7.72 1.47 1.35L5.41 20z\"/>\n",
              "  </svg>\n",
              "      </button>\n",
              "      \n",
              "  <style>\n",
              "    .colab-df-container {\n",
              "      display:flex;\n",
              "      flex-wrap:wrap;\n",
              "      gap: 12px;\n",
              "    }\n",
              "\n",
              "    .colab-df-convert {\n",
              "      background-color: #E8F0FE;\n",
              "      border: none;\n",
              "      border-radius: 50%;\n",
              "      cursor: pointer;\n",
              "      display: none;\n",
              "      fill: #1967D2;\n",
              "      height: 32px;\n",
              "      padding: 0 0 0 0;\n",
              "      width: 32px;\n",
              "    }\n",
              "\n",
              "    .colab-df-convert:hover {\n",
              "      background-color: #E2EBFA;\n",
              "      box-shadow: 0px 1px 2px rgba(60, 64, 67, 0.3), 0px 1px 3px 1px rgba(60, 64, 67, 0.15);\n",
              "      fill: #174EA6;\n",
              "    }\n",
              "\n",
              "    [theme=dark] .colab-df-convert {\n",
              "      background-color: #3B4455;\n",
              "      fill: #D2E3FC;\n",
              "    }\n",
              "\n",
              "    [theme=dark] .colab-df-convert:hover {\n",
              "      background-color: #434B5C;\n",
              "      box-shadow: 0px 1px 3px 1px rgba(0, 0, 0, 0.15);\n",
              "      filter: drop-shadow(0px 1px 2px rgba(0, 0, 0, 0.3));\n",
              "      fill: #FFFFFF;\n",
              "    }\n",
              "  </style>\n",
              "\n",
              "      <script>\n",
              "        const buttonEl =\n",
              "          document.querySelector('#df-5ef1f6d2-6075-48ee-b4e3-4934d363d8ff button.colab-df-convert');\n",
              "        buttonEl.style.display =\n",
              "          google.colab.kernel.accessAllowed ? 'block' : 'none';\n",
              "\n",
              "        async function convertToInteractive(key) {\n",
              "          const element = document.querySelector('#df-5ef1f6d2-6075-48ee-b4e3-4934d363d8ff');\n",
              "          const dataTable =\n",
              "            await google.colab.kernel.invokeFunction('convertToInteractive',\n",
              "                                                     [key], {});\n",
              "          if (!dataTable) return;\n",
              "\n",
              "          const docLinkHtml = 'Like what you see? Visit the ' +\n",
              "            '<a target=\"_blank\" href=https://colab.research.google.com/notebooks/data_table.ipynb>data table notebook</a>'\n",
              "            + ' to learn more about interactive tables.';\n",
              "          element.innerHTML = '';\n",
              "          dataTable['output_type'] = 'display_data';\n",
              "          await google.colab.output.renderOutput(dataTable, element);\n",
              "          const docLink = document.createElement('div');\n",
              "          docLink.innerHTML = docLinkHtml;\n",
              "          element.appendChild(docLink);\n",
              "        }\n",
              "      </script>\n",
              "    </div>\n",
              "  </div>\n",
              "  "
            ],
            "text/plain": [
              "                                              user  ... plays\n",
              "0         00000c289a1829a808ac09c00daf10bc3c4e223b  ...  1099\n",
              "1         00000c289a1829a808ac09c00daf10bc3c4e223b  ...   897\n",
              "2         00000c289a1829a808ac09c00daf10bc3c4e223b  ...   717\n",
              "3         00000c289a1829a808ac09c00daf10bc3c4e223b  ...   706\n",
              "4         00000c289a1829a808ac09c00daf10bc3c4e223b  ...   691\n",
              "...                                            ...  ...   ...\n",
              "17535649                              sep 20, 2008  ...    12\n",
              "17535650                              sep 20, 2008  ...    11\n",
              "17535651                              sep 20, 2008  ...    11\n",
              "17535652                              sep 20, 2008  ...    10\n",
              "17535653                              sep 20, 2008  ...    10\n",
              "\n",
              "[17535654 rows x 3 columns]"
            ]
          },
          "metadata": {},
          "execution_count": 13
        },
        {
          "output_type": "stream",
          "name": "stdout",
          "text": [
            "Warning: total number of rows (17535654) exceeds max_rows (20000). Limiting to first (20000) rows.\n"
          ]
        }
      ]
    },
    {
      "cell_type": "code",
      "source": [
        "from google.colab import data_table\n",
        "data_table.disable_dataframe_formatter()\n",
        "# data_table.enable_dataframe_formatter()"
      ],
      "metadata": {
        "id": "ArlAnu4t4Zfa"
      },
      "execution_count": 15,
      "outputs": []
    },
    {
      "cell_type": "code",
      "source": [
        "raw_data"
      ],
      "metadata": {
        "colab": {
          "base_uri": "https://localhost:8080/",
          "height": 424
        },
        "id": "ph8Ea6H829ZA",
        "outputId": "5a62be85-47eb-4673-917f-816ea677b1f1"
      },
      "execution_count": 16,
      "outputs": [
        {
          "output_type": "execute_result",
          "data": {
            "text/html": [
              "\n",
              "  <div id=\"df-8ca699d7-d8e6-43ac-8078-8cea02dfc864\">\n",
              "    <div class=\"colab-df-container\">\n",
              "      <div>\n",
              "<style scoped>\n",
              "    .dataframe tbody tr th:only-of-type {\n",
              "        vertical-align: middle;\n",
              "    }\n",
              "\n",
              "    .dataframe tbody tr th {\n",
              "        vertical-align: top;\n",
              "    }\n",
              "\n",
              "    .dataframe thead th {\n",
              "        text-align: right;\n",
              "    }\n",
              "</style>\n",
              "<table border=\"1\" class=\"dataframe\">\n",
              "  <thead>\n",
              "    <tr style=\"text-align: right;\">\n",
              "      <th></th>\n",
              "      <th>user</th>\n",
              "      <th>artist</th>\n",
              "      <th>plays</th>\n",
              "    </tr>\n",
              "  </thead>\n",
              "  <tbody>\n",
              "    <tr>\n",
              "      <th>0</th>\n",
              "      <td>00000c289a1829a808ac09c00daf10bc3c4e223b</td>\n",
              "      <td>die Ärzte</td>\n",
              "      <td>1099</td>\n",
              "    </tr>\n",
              "    <tr>\n",
              "      <th>1</th>\n",
              "      <td>00000c289a1829a808ac09c00daf10bc3c4e223b</td>\n",
              "      <td>melissa etheridge</td>\n",
              "      <td>897</td>\n",
              "    </tr>\n",
              "    <tr>\n",
              "      <th>2</th>\n",
              "      <td>00000c289a1829a808ac09c00daf10bc3c4e223b</td>\n",
              "      <td>elvenking</td>\n",
              "      <td>717</td>\n",
              "    </tr>\n",
              "    <tr>\n",
              "      <th>3</th>\n",
              "      <td>00000c289a1829a808ac09c00daf10bc3c4e223b</td>\n",
              "      <td>juliette &amp; the licks</td>\n",
              "      <td>706</td>\n",
              "    </tr>\n",
              "    <tr>\n",
              "      <th>4</th>\n",
              "      <td>00000c289a1829a808ac09c00daf10bc3c4e223b</td>\n",
              "      <td>red hot chili peppers</td>\n",
              "      <td>691</td>\n",
              "    </tr>\n",
              "    <tr>\n",
              "      <th>...</th>\n",
              "      <td>...</td>\n",
              "      <td>...</td>\n",
              "      <td>...</td>\n",
              "    </tr>\n",
              "    <tr>\n",
              "      <th>17535649</th>\n",
              "      <td>sep 20, 2008</td>\n",
              "      <td>turbostaat</td>\n",
              "      <td>12</td>\n",
              "    </tr>\n",
              "    <tr>\n",
              "      <th>17535650</th>\n",
              "      <td>sep 20, 2008</td>\n",
              "      <td>cuba missouri</td>\n",
              "      <td>11</td>\n",
              "    </tr>\n",
              "    <tr>\n",
              "      <th>17535651</th>\n",
              "      <td>sep 20, 2008</td>\n",
              "      <td>little man tate</td>\n",
              "      <td>11</td>\n",
              "    </tr>\n",
              "    <tr>\n",
              "      <th>17535652</th>\n",
              "      <td>sep 20, 2008</td>\n",
              "      <td>sigur rós</td>\n",
              "      <td>10</td>\n",
              "    </tr>\n",
              "    <tr>\n",
              "      <th>17535653</th>\n",
              "      <td>sep 20, 2008</td>\n",
              "      <td>the smiths</td>\n",
              "      <td>10</td>\n",
              "    </tr>\n",
              "  </tbody>\n",
              "</table>\n",
              "<p>17535654 rows × 3 columns</p>\n",
              "</div>\n",
              "      <button class=\"colab-df-convert\" onclick=\"convertToInteractive('df-8ca699d7-d8e6-43ac-8078-8cea02dfc864')\"\n",
              "              title=\"Convert this dataframe to an interactive table.\"\n",
              "              style=\"display:none;\">\n",
              "        \n",
              "  <svg xmlns=\"http://www.w3.org/2000/svg\" height=\"24px\"viewBox=\"0 0 24 24\"\n",
              "       width=\"24px\">\n",
              "    <path d=\"M0 0h24v24H0V0z\" fill=\"none\"/>\n",
              "    <path d=\"M18.56 5.44l.94 2.06.94-2.06 2.06-.94-2.06-.94-.94-2.06-.94 2.06-2.06.94zm-11 1L8.5 8.5l.94-2.06 2.06-.94-2.06-.94L8.5 2.5l-.94 2.06-2.06.94zm10 10l.94 2.06.94-2.06 2.06-.94-2.06-.94-.94-2.06-.94 2.06-2.06.94z\"/><path d=\"M17.41 7.96l-1.37-1.37c-.4-.4-.92-.59-1.43-.59-.52 0-1.04.2-1.43.59L10.3 9.45l-7.72 7.72c-.78.78-.78 2.05 0 2.83L4 21.41c.39.39.9.59 1.41.59.51 0 1.02-.2 1.41-.59l7.78-7.78 2.81-2.81c.8-.78.8-2.07 0-2.86zM5.41 20L4 18.59l7.72-7.72 1.47 1.35L5.41 20z\"/>\n",
              "  </svg>\n",
              "      </button>\n",
              "      \n",
              "  <style>\n",
              "    .colab-df-container {\n",
              "      display:flex;\n",
              "      flex-wrap:wrap;\n",
              "      gap: 12px;\n",
              "    }\n",
              "\n",
              "    .colab-df-convert {\n",
              "      background-color: #E8F0FE;\n",
              "      border: none;\n",
              "      border-radius: 50%;\n",
              "      cursor: pointer;\n",
              "      display: none;\n",
              "      fill: #1967D2;\n",
              "      height: 32px;\n",
              "      padding: 0 0 0 0;\n",
              "      width: 32px;\n",
              "    }\n",
              "\n",
              "    .colab-df-convert:hover {\n",
              "      background-color: #E2EBFA;\n",
              "      box-shadow: 0px 1px 2px rgba(60, 64, 67, 0.3), 0px 1px 3px 1px rgba(60, 64, 67, 0.15);\n",
              "      fill: #174EA6;\n",
              "    }\n",
              "\n",
              "    [theme=dark] .colab-df-convert {\n",
              "      background-color: #3B4455;\n",
              "      fill: #D2E3FC;\n",
              "    }\n",
              "\n",
              "    [theme=dark] .colab-df-convert:hover {\n",
              "      background-color: #434B5C;\n",
              "      box-shadow: 0px 1px 3px 1px rgba(0, 0, 0, 0.15);\n",
              "      filter: drop-shadow(0px 1px 2px rgba(0, 0, 0, 0.3));\n",
              "      fill: #FFFFFF;\n",
              "    }\n",
              "  </style>\n",
              "\n",
              "      <script>\n",
              "        const buttonEl =\n",
              "          document.querySelector('#df-8ca699d7-d8e6-43ac-8078-8cea02dfc864 button.colab-df-convert');\n",
              "        buttonEl.style.display =\n",
              "          google.colab.kernel.accessAllowed ? 'block' : 'none';\n",
              "\n",
              "        async function convertToInteractive(key) {\n",
              "          const element = document.querySelector('#df-8ca699d7-d8e6-43ac-8078-8cea02dfc864');\n",
              "          const dataTable =\n",
              "            await google.colab.kernel.invokeFunction('convertToInteractive',\n",
              "                                                     [key], {});\n",
              "          if (!dataTable) return;\n",
              "\n",
              "          const docLinkHtml = 'Like what you see? Visit the ' +\n",
              "            '<a target=\"_blank\" href=https://colab.research.google.com/notebooks/data_table.ipynb>data table notebook</a>'\n",
              "            + ' to learn more about interactive tables.';\n",
              "          element.innerHTML = '';\n",
              "          dataTable['output_type'] = 'display_data';\n",
              "          await google.colab.output.renderOutput(dataTable, element);\n",
              "          const docLink = document.createElement('div');\n",
              "          docLink.innerHTML = docLinkHtml;\n",
              "          element.appendChild(docLink);\n",
              "        }\n",
              "      </script>\n",
              "    </div>\n",
              "  </div>\n",
              "  "
            ],
            "text/plain": [
              "                                              user  ... plays\n",
              "0         00000c289a1829a808ac09c00daf10bc3c4e223b  ...  1099\n",
              "1         00000c289a1829a808ac09c00daf10bc3c4e223b  ...   897\n",
              "2         00000c289a1829a808ac09c00daf10bc3c4e223b  ...   717\n",
              "3         00000c289a1829a808ac09c00daf10bc3c4e223b  ...   706\n",
              "4         00000c289a1829a808ac09c00daf10bc3c4e223b  ...   691\n",
              "...                                            ...  ...   ...\n",
              "17535649                              sep 20, 2008  ...    12\n",
              "17535650                              sep 20, 2008  ...    11\n",
              "17535651                              sep 20, 2008  ...    11\n",
              "17535652                              sep 20, 2008  ...    10\n",
              "17535653                              sep 20, 2008  ...    10\n",
              "\n",
              "[17535654 rows x 3 columns]"
            ]
          },
          "metadata": {},
          "execution_count": 16
        }
      ]
    },
    {
      "cell_type": "code",
      "source": [
        "# A little bit of data filtering, drop NaN columns\n",
        "# Also adding additional columns with categorical variables converted to numerical (user to user_id and artist to artist_id)\n",
        "data = raw_data.dropna()\n",
        "data = data.copy()\n",
        "data['user'] = data['user'].astype(\"category\")\n",
        "data['artist'] = data['artist'].astype(\"category\")\n",
        "data['user_id'] = data['user'].cat.codes\n",
        "data['artist_id'] = data['artist'].cat.codes"
      ],
      "metadata": {
        "id": "8L-sHsvG4mQO"
      },
      "execution_count": 20,
      "outputs": []
    },
    {
      "cell_type": "code",
      "source": [
        "data"
      ],
      "metadata": {
        "colab": {
          "base_uri": "https://localhost:8080/",
          "height": 424
        },
        "id": "tJ_aaVAe6AJe",
        "outputId": "9f5be5db-bf27-4921-ed4b-e9441ca92cc0"
      },
      "execution_count": 21,
      "outputs": [
        {
          "output_type": "execute_result",
          "data": {
            "text/html": [
              "\n",
              "  <div id=\"df-20426163-c793-4226-8e22-f78de9f0a6b3\">\n",
              "    <div class=\"colab-df-container\">\n",
              "      <div>\n",
              "<style scoped>\n",
              "    .dataframe tbody tr th:only-of-type {\n",
              "        vertical-align: middle;\n",
              "    }\n",
              "\n",
              "    .dataframe tbody tr th {\n",
              "        vertical-align: top;\n",
              "    }\n",
              "\n",
              "    .dataframe thead th {\n",
              "        text-align: right;\n",
              "    }\n",
              "</style>\n",
              "<table border=\"1\" class=\"dataframe\">\n",
              "  <thead>\n",
              "    <tr style=\"text-align: right;\">\n",
              "      <th></th>\n",
              "      <th>user</th>\n",
              "      <th>artist</th>\n",
              "      <th>plays</th>\n",
              "      <th>user_id</th>\n",
              "      <th>artist_id</th>\n",
              "    </tr>\n",
              "  </thead>\n",
              "  <tbody>\n",
              "    <tr>\n",
              "      <th>0</th>\n",
              "      <td>00000c289a1829a808ac09c00daf10bc3c4e223b</td>\n",
              "      <td>die Ärzte</td>\n",
              "      <td>1099</td>\n",
              "      <td>0</td>\n",
              "      <td>90933</td>\n",
              "    </tr>\n",
              "    <tr>\n",
              "      <th>1</th>\n",
              "      <td>00000c289a1829a808ac09c00daf10bc3c4e223b</td>\n",
              "      <td>melissa etheridge</td>\n",
              "      <td>897</td>\n",
              "      <td>0</td>\n",
              "      <td>185367</td>\n",
              "    </tr>\n",
              "    <tr>\n",
              "      <th>2</th>\n",
              "      <td>00000c289a1829a808ac09c00daf10bc3c4e223b</td>\n",
              "      <td>elvenking</td>\n",
              "      <td>717</td>\n",
              "      <td>0</td>\n",
              "      <td>106704</td>\n",
              "    </tr>\n",
              "    <tr>\n",
              "      <th>3</th>\n",
              "      <td>00000c289a1829a808ac09c00daf10bc3c4e223b</td>\n",
              "      <td>juliette &amp; the licks</td>\n",
              "      <td>706</td>\n",
              "      <td>0</td>\n",
              "      <td>155241</td>\n",
              "    </tr>\n",
              "    <tr>\n",
              "      <th>4</th>\n",
              "      <td>00000c289a1829a808ac09c00daf10bc3c4e223b</td>\n",
              "      <td>red hot chili peppers</td>\n",
              "      <td>691</td>\n",
              "      <td>0</td>\n",
              "      <td>220128</td>\n",
              "    </tr>\n",
              "    <tr>\n",
              "      <th>...</th>\n",
              "      <td>...</td>\n",
              "      <td>...</td>\n",
              "      <td>...</td>\n",
              "      <td>...</td>\n",
              "      <td>...</td>\n",
              "    </tr>\n",
              "    <tr>\n",
              "      <th>17535649</th>\n",
              "      <td>sep 20, 2008</td>\n",
              "      <td>turbostaat</td>\n",
              "      <td>12</td>\n",
              "      <td>358867</td>\n",
              "      <td>271740</td>\n",
              "    </tr>\n",
              "    <tr>\n",
              "      <th>17535650</th>\n",
              "      <td>sep 20, 2008</td>\n",
              "      <td>cuba missouri</td>\n",
              "      <td>11</td>\n",
              "      <td>358867</td>\n",
              "      <td>78482</td>\n",
              "    </tr>\n",
              "    <tr>\n",
              "      <th>17535651</th>\n",
              "      <td>sep 20, 2008</td>\n",
              "      <td>little man tate</td>\n",
              "      <td>11</td>\n",
              "      <td>358867</td>\n",
              "      <td>171784</td>\n",
              "    </tr>\n",
              "    <tr>\n",
              "      <th>17535652</th>\n",
              "      <td>sep 20, 2008</td>\n",
              "      <td>sigur rós</td>\n",
              "      <td>10</td>\n",
              "      <td>358867</td>\n",
              "      <td>235118</td>\n",
              "    </tr>\n",
              "    <tr>\n",
              "      <th>17535653</th>\n",
              "      <td>sep 20, 2008</td>\n",
              "      <td>the smiths</td>\n",
              "      <td>10</td>\n",
              "      <td>358867</td>\n",
              "      <td>262827</td>\n",
              "    </tr>\n",
              "  </tbody>\n",
              "</table>\n",
              "<p>17535450 rows × 5 columns</p>\n",
              "</div>\n",
              "      <button class=\"colab-df-convert\" onclick=\"convertToInteractive('df-20426163-c793-4226-8e22-f78de9f0a6b3')\"\n",
              "              title=\"Convert this dataframe to an interactive table.\"\n",
              "              style=\"display:none;\">\n",
              "        \n",
              "  <svg xmlns=\"http://www.w3.org/2000/svg\" height=\"24px\"viewBox=\"0 0 24 24\"\n",
              "       width=\"24px\">\n",
              "    <path d=\"M0 0h24v24H0V0z\" fill=\"none\"/>\n",
              "    <path d=\"M18.56 5.44l.94 2.06.94-2.06 2.06-.94-2.06-.94-.94-2.06-.94 2.06-2.06.94zm-11 1L8.5 8.5l.94-2.06 2.06-.94-2.06-.94L8.5 2.5l-.94 2.06-2.06.94zm10 10l.94 2.06.94-2.06 2.06-.94-2.06-.94-.94-2.06-.94 2.06-2.06.94z\"/><path d=\"M17.41 7.96l-1.37-1.37c-.4-.4-.92-.59-1.43-.59-.52 0-1.04.2-1.43.59L10.3 9.45l-7.72 7.72c-.78.78-.78 2.05 0 2.83L4 21.41c.39.39.9.59 1.41.59.51 0 1.02-.2 1.41-.59l7.78-7.78 2.81-2.81c.8-.78.8-2.07 0-2.86zM5.41 20L4 18.59l7.72-7.72 1.47 1.35L5.41 20z\"/>\n",
              "  </svg>\n",
              "      </button>\n",
              "      \n",
              "  <style>\n",
              "    .colab-df-container {\n",
              "      display:flex;\n",
              "      flex-wrap:wrap;\n",
              "      gap: 12px;\n",
              "    }\n",
              "\n",
              "    .colab-df-convert {\n",
              "      background-color: #E8F0FE;\n",
              "      border: none;\n",
              "      border-radius: 50%;\n",
              "      cursor: pointer;\n",
              "      display: none;\n",
              "      fill: #1967D2;\n",
              "      height: 32px;\n",
              "      padding: 0 0 0 0;\n",
              "      width: 32px;\n",
              "    }\n",
              "\n",
              "    .colab-df-convert:hover {\n",
              "      background-color: #E2EBFA;\n",
              "      box-shadow: 0px 1px 2px rgba(60, 64, 67, 0.3), 0px 1px 3px 1px rgba(60, 64, 67, 0.15);\n",
              "      fill: #174EA6;\n",
              "    }\n",
              "\n",
              "    [theme=dark] .colab-df-convert {\n",
              "      background-color: #3B4455;\n",
              "      fill: #D2E3FC;\n",
              "    }\n",
              "\n",
              "    [theme=dark] .colab-df-convert:hover {\n",
              "      background-color: #434B5C;\n",
              "      box-shadow: 0px 1px 3px 1px rgba(0, 0, 0, 0.15);\n",
              "      filter: drop-shadow(0px 1px 2px rgba(0, 0, 0, 0.3));\n",
              "      fill: #FFFFFF;\n",
              "    }\n",
              "  </style>\n",
              "\n",
              "      <script>\n",
              "        const buttonEl =\n",
              "          document.querySelector('#df-20426163-c793-4226-8e22-f78de9f0a6b3 button.colab-df-convert');\n",
              "        buttonEl.style.display =\n",
              "          google.colab.kernel.accessAllowed ? 'block' : 'none';\n",
              "\n",
              "        async function convertToInteractive(key) {\n",
              "          const element = document.querySelector('#df-20426163-c793-4226-8e22-f78de9f0a6b3');\n",
              "          const dataTable =\n",
              "            await google.colab.kernel.invokeFunction('convertToInteractive',\n",
              "                                                     [key], {});\n",
              "          if (!dataTable) return;\n",
              "\n",
              "          const docLinkHtml = 'Like what you see? Visit the ' +\n",
              "            '<a target=\"_blank\" href=https://colab.research.google.com/notebooks/data_table.ipynb>data table notebook</a>'\n",
              "            + ' to learn more about interactive tables.';\n",
              "          element.innerHTML = '';\n",
              "          dataTable['output_type'] = 'display_data';\n",
              "          await google.colab.output.renderOutput(dataTable, element);\n",
              "          const docLink = document.createElement('div');\n",
              "          docLink.innerHTML = docLinkHtml;\n",
              "          element.appendChild(docLink);\n",
              "        }\n",
              "      </script>\n",
              "    </div>\n",
              "  </div>\n",
              "  "
            ],
            "text/plain": [
              "                                              user  ... artist_id\n",
              "0         00000c289a1829a808ac09c00daf10bc3c4e223b  ...     90933\n",
              "1         00000c289a1829a808ac09c00daf10bc3c4e223b  ...    185367\n",
              "2         00000c289a1829a808ac09c00daf10bc3c4e223b  ...    106704\n",
              "3         00000c289a1829a808ac09c00daf10bc3c4e223b  ...    155241\n",
              "4         00000c289a1829a808ac09c00daf10bc3c4e223b  ...    220128\n",
              "...                                            ...  ...       ...\n",
              "17535649                              sep 20, 2008  ...    271740\n",
              "17535650                              sep 20, 2008  ...     78482\n",
              "17535651                              sep 20, 2008  ...    171784\n",
              "17535652                              sep 20, 2008  ...    235118\n",
              "17535653                              sep 20, 2008  ...    262827\n",
              "\n",
              "[17535450 rows x 5 columns]"
            ]
          },
          "metadata": {},
          "execution_count": 21
        }
      ]
    },
    {
      "cell_type": "code",
      "source": [
        "# Importing libraries for creating the item-user matrix\n",
        "import scipy.sparse as sparse\n",
        "from scipy.sparse.linalg import spsolve\n",
        "import random"
      ],
      "metadata": {
        "id": "gxL8ixja7sm3"
      },
      "execution_count": 22,
      "outputs": []
    },
    {
      "cell_type": "code",
      "source": [
        "# Create an item lookup table \n",
        "# We will only use user_id and artist_id in the matrix, so we want to be able to \n",
        "# look up the corresponding value in plain English later\n",
        "# Some code from: https://medium.com/radon-dev/als-implicit-collaborative-filtering-5ed653ba39fe \n",
        "artist_lookup = data[['artist_id', 'artist']].drop_duplicates()\n",
        "artist_lookup['artist_id'] = artist_lookup.artist_id.astype(str)"
      ],
      "metadata": {
        "id": "3mAk-Yax8AZv"
      },
      "execution_count": 23,
      "outputs": []
    },
    {
      "cell_type": "code",
      "source": [
        "# Creating user lookup table (not super necessary but in case)\n",
        "user_lookup = data[['user_id', 'user']].drop_duplicates()\n",
        "user_lookup['user_id'] = user_lookup.user_id.astype(str)"
      ],
      "metadata": {
        "id": "dYgHJfJPGheY"
      },
      "execution_count": 25,
      "outputs": []
    },
    {
      "cell_type": "code",
      "source": [
        "# Now we drop the plain english user and artist columns\n",
        "# We only want the numerical ID columns\n",
        "data = data.drop(['user', 'artist'], axis=1)"
      ],
      "metadata": {
        "id": "K0mv_sh9GsIT"
      },
      "execution_count": 26,
      "outputs": []
    },
    {
      "cell_type": "code",
      "source": [
        " # Drop any rows that have 0 plays\n",
        " # But why would we do this - doesn't 0 plays tell us something? *****\n",
        " # data = data.loc[data.plays != 0]"
      ],
      "metadata": {
        "id": "-51yFcK1G2_0"
      },
      "execution_count": 27,
      "outputs": []
    },
    {
      "cell_type": "code",
      "source": [
        "# Create lists of all users, artists and plays\n",
        "users = list(np.sort(data.user_id.unique()))\n",
        "artists = list(np.sort(data.artist_id.unique()))\n",
        "plays = list(data.plays)"
      ],
      "metadata": {
        "id": "YnbIEElWHFWQ"
      },
      "execution_count": 29,
      "outputs": []
    },
    {
      "cell_type": "code",
      "source": [
        "# Get the rows and columns for our new matrix\n",
        "rows = data.user_id.astype(int)\n",
        "cols = data.artist_id.astype(int)"
      ],
      "metadata": {
        "id": "noItLyNfHtQ1"
      },
      "execution_count": 34,
      "outputs": []
    },
    {
      "cell_type": "markdown",
      "source": [
        "`csr_matrix((data, (row_ind, col_ind)), [shape=(M, N)])`\n",
        "where `data`, `row_ind` and `col_ind` satisfy the relationship `a[row_ind[k], col_ind[k]] = data[k]`.\n",
        "[SciPy Documentation about `scipy.sparse.csr_matrix`](https://docs.scipy.org/doc/scipy/reference/generated/scipy.sparse.csr_matrix.html)"
      ],
      "metadata": {
        "id": "SGvyxOjpJCYr"
      }
    },
    {
      "cell_type": "code",
      "source": [
        "# Contruct a sparse matrix for our users and items containing number of plays\n",
        "# How does it know which value of plays corresponds to which cell? *****\n",
        "data_sparse = sparse.csr_matrix((plays, (rows, cols)), shape=(len(users), len(artists)))"
      ],
      "metadata": {
        "id": "2Zo_1re-Hz3s"
      },
      "execution_count": 35,
      "outputs": []
    },
    {
      "cell_type": "code",
      "source": [
        "def als(sparse_matrix, alpha, iterations, lambda_val, features):\n",
        "  \"\"\" Implementation of the Alternating Least Squares matrix factorization algorithm.\n",
        "  \n",
        "  Iteratively compute the U and V matrices by fixing one and optimizing the other (alternating), where their product approximates the original user-item matrix (sparse_matrix).\n",
        "  This is done by alternatingly computing the user (x_u) and item (y_i) vectors using the following formulas:\n",
        "\n",
        "  x_u = ((Y.T*Y + Y.T*(Cu - I) * Y) + lambda*I)^-1 * (X.T * Cu * p(u))\n",
        "  y_i = ((X.T*X + X.T*(Ci - I) * X) + lambda*I)^-1 * (Y.T * Ci * p(i))\n",
        "\n",
        "  Arguments:\n",
        "\n",
        "    sparse_data (csr_matrix): Our sparse user-by-item matrix\n",
        "\n",
        "    alpha (int): Rate at which the confidence increases. In the aforementioned paper, the authors found that 40 works well, and values between 15 and 40 are worth trying.\n",
        "\n",
        "    iterations (int): The number of times to alternate between fixing and updating the user and item vectors. We will use 10 by default.\n",
        "\n",
        "    lambda_val (float): Regularization value to reduce overfitting. We will use 0.1 by default.\n",
        "\n",
        "    features (int): How many latent features we would like to compute. We will use 10 by default.\n",
        "\n",
        "  Returns:\n",
        "    \n",
        "    X (csr_matrix): User vectors of size users-by-features.\n",
        "\n",
        "    Y (csr_matrix): Item vectors of size items-by-features. In this case, this is artists.\n",
        "\n",
        "  \"\"\"\n",
        "\n",
        "  # Default values being set. This can be commented out for other values.\n",
        "\n",
        "  alpha=40\n",
        "  iterations=10\n",
        "  lambda_val=0.1\n",
        "  features=10\n",
        "\n",
        "  # Calculating confidence for each value in the input (sparse) matrix (sparse_matrix)\n",
        "  # Adding +1 so that there is a minimal confidence even if alpha*cell in matrix = 0 \n",
        "  # (i.e. if there are 0 plays of a particular song) \n",
        "  # If I had dropped the rows with 0 plays, I would not need to do this?\n",
        "  confidence = 1 + alpha*sparse_matrix \n",
        "\n",
        "  # Get the size of the user rows and item columns (artists)\n",
        "  num_users, num_items = sparse_matrix.shape\n",
        "\n",
        "  # Calulating the preference for each value in the input (sparse) matrix (sparse_matrix)\n",
        "  # Not sure if this is necessary (also exactly how to format) because we can directly impute\n",
        "  preference = sparse.csr_matrix((num_users, num_items))\n",
        "\n",
        "  # Create X (user) and Y (item - in this case artist) matrices\n",
        "  # Randomly assign them values - we will alternatingly update each of the values as per equations above\n",
        "  # Note: np.random.normal(size = (num_users, features)) --> Creates a num_users x features matrix with\n",
        "  # randomly assigned values which are normalized (between -1 and 1)\n",
        "  # This numpy 2D matrix is then passed into the csr_matrix constructor\n",
        "  X = sparse.csr_matrix(np.random.normal(size = (num_users, features)))\n",
        "  Y = sparse.csr_matrix(np.random.normal(size = (num_items, features)))\n",
        "\n",
        "  # Pre-computing the identity matrices\n",
        "  # Using the scipy.sparse.eye function which returns a sparse (mxn) matrix where the kth diagonal\n",
        "  # is all ones and everything else is zeroes\n",
        "  # https://docs.scipy.org/doc/scipy/reference/generated/scipy.sparse.eye.html \n",
        "  # ***** Why not make it an num_users x features matrix?\n",
        "  X_I = sparse.eye(num_users)\n",
        "  Y_I = sparse.eye(num_items)\n",
        "\n",
        "  # Feature identity matrix\n",
        "  I = sparse.eye(features)\n",
        "\n",
        "  # Regularized (lambda) feature identity matrix\n",
        "  # **** Where is this? \n",
        "  lI = lambda_val*I\n",
        "\n",
        "  # COMPUTATION BEGINS HERE\n",
        "  # We are doing the number of iterations specified in the args (default is 10)\n",
        "  # In each iteration: \n",
        "  # (1) We first precompute X_T_X and Y_T_Y (X-transpose-X and Y-transpose-Y)\n",
        "  # (2) Calculate all x values (all user values)\n",
        "  # (3) Calculate all y values (all item - artist values)\n",
        "  for i in range(iterations):\n",
        "    print(\"Iteration #\", i+1, \"of \", iterations, \"iterations.\")\n",
        "\n",
        "    # Precomputing X-transpose-X and Y-transpose-Y\n",
        "    X_T_X = (X.T).dot(X)\n",
        "    Y_T_Y = (Y.T).dot(Y)\n",
        "\n",
        "    # Computing all x values in X (i.e all users)\n",
        "    # Treat them one row at a time because row = user\n",
        "    for u in range(num_users):\n",
        "\n",
        "      # Get this user row\n",
        "      # this means get row u, and : means all columns of u\n",
        "      # ***** Why are we not getting the user row from the randomly assigned matrix X?\n",
        "      user_row = confidence[u,:].toarray()\n",
        "\n",
        "      # Getting the preference of this row/user\n",
        "      # It is binary; if the value is greater than 0, then the preference = 1\n",
        "      # Otherwise the preference = 0\n",
        "      # ***** BUT, since we are using the confidence values, won't this never be 0 because we added the +1?\n",
        "      p_user = user_row.copy()\n",
        "      p_user[p_user != 0] = 1.0\n",
        "\n",
        "      # Calculating Cu and Cu - I\n",
        "      # sparse.diags --> constructs a sparse matrix from the diagonal\n",
        "      # In this case, the user row vector values will be along the main diagonal, no offset (specified as 0)\n",
        "      CuI = sparse.diags(user_row, [0]) # --> Where in the formula is this?\n",
        "      Cu = CuI + Y_I\n"
      ],
      "metadata": {
        "colab": {
          "base_uri": "https://localhost:8080/",
          "height": 0
        },
        "id": "G7FoVDq4Igv7",
        "outputId": "29bce3c6-38aa-4fcb-bf79-b88e3e2d7b2e"
      },
      "execution_count": 36,
      "outputs": [
        {
          "output_type": "stream",
          "name": "stdout",
          "text": [
            "  (0, 19356)\t229\n",
            "  (0, 19592)\t288\n",
            "  (0, 37515)\t310\n",
            "  (0, 45554)\t135\n",
            "  (0, 46244)\t134\n",
            "  (0, 51085)\t185\n",
            "  (0, 90933)\t1099\n",
            "  (0, 92172)\t154\n",
            "  (0, 100639)\t302\n",
            "  (0, 103711)\t232\n",
            "  (0, 106689)\t222\n",
            "  (0, 106704)\t717\n",
            "  (0, 125484)\t134\n",
            "  (0, 126690)\t361\n",
            "  (0, 129383)\t151\n",
            "  (0, 137062)\t358\n",
            "  (0, 144238)\t227\n",
            "  (0, 144293)\t316\n",
            "  (0, 151766)\t182\n",
            "  (0, 154684)\t198\n",
            "  (0, 155241)\t706\n",
            "  (0, 165120)\t135\n",
            "  (0, 167984)\t281\n",
            "  (0, 169906)\t387\n",
            "  (0, 171686)\t145\n",
            "  :\t:\n",
            "  (358867, 160643)\t14\n",
            "  (358867, 161415)\t27\n",
            "  (358867, 161724)\t14\n",
            "  (358867, 162097)\t32\n",
            "  (358867, 167143)\t131\n",
            "  (358867, 171784)\t11\n",
            "  (358867, 178275)\t12\n",
            "  (358867, 186549)\t18\n",
            "  (358867, 217883)\t12\n",
            "  (358867, 218091)\t23\n",
            "  (358867, 235118)\t10\n",
            "  (358867, 251158)\t16\n",
            "  (358867, 254306)\t36\n",
            "  (358867, 254532)\t12\n",
            "  (358867, 258344)\t14\n",
            "  (358867, 262827)\t10\n",
            "  (358867, 263239)\t12\n",
            "  (358867, 263330)\t30\n",
            "  (358867, 263682)\t14\n",
            "  (358867, 263831)\t24\n",
            "  (358867, 265438)\t12\n",
            "  (358867, 267931)\t25\n",
            "  (358867, 268672)\t45\n",
            "  (358867, 271740)\t12\n",
            "  (358867, 274800)\t39\n"
          ]
        }
      ]
    },
    {
      "cell_type": "code",
      "source": [
        ""
      ],
      "metadata": {
        "id": "xCLA1wN_Iq1M"
      },
      "execution_count": null,
      "outputs": []
    }
  ]
}